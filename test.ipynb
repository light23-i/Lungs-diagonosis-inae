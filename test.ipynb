{
 "cells": [
  {
   "cell_type": "code",
   "execution_count": 1,
   "metadata": {},
   "outputs": [],
   "source": [
    "import wave\n",
    "import matplotlib.pyplot as plt \n",
    "import sys \n",
    "import os\n",
    "import pandas as pd\n",
    "import numpy as np"
   ]
  },
  {
   "cell_type": "code",
   "execution_count": 2,
   "metadata": {},
   "outputs": [],
   "source": [
    "df = pd.read_csv('respiratory_sound_database/Respiratory_Sound_Database/patient_diagnosis.csv')\n",
    "out = df[['Disease']]"
   ]
  },
  {
   "cell_type": "code",
   "execution_count": 21,
   "metadata": {},
   "outputs": [
    {
     "data": {
      "text/plain": [
       "Index(['ID', 'Disease'], dtype='object')"
      ]
     },
     "execution_count": 21,
     "metadata": {},
     "output_type": "execute_result"
    }
   ],
   "source": [
    "df.columns"
   ]
  },
  {
   "cell_type": "code",
   "execution_count": 11,
   "metadata": {},
   "outputs": [],
   "source": [
    "file = os.listdir('respiratory_sound_database/Respiratory_Sound_Database/audio_and_txt_files')"
   ]
  },
  {
   "cell_type": "code",
   "execution_count": 15,
   "metadata": {},
   "outputs": [
    {
     "data": {
      "text/plain": [
       "'186'"
      ]
     },
     "execution_count": 15,
     "metadata": {},
     "output_type": "execute_result"
    }
   ],
   "source": [
    "file[0][:3]"
   ]
  },
  {
   "cell_type": "code",
   "execution_count": 4,
   "metadata": {},
   "outputs": [],
   "source": [
    "with open('respiratory_sound_database/Respiratory_Sound_Database/filename_differences.txt') as f:\n",
    "    x = os.listdir()"
   ]
  },
  {
   "cell_type": "code",
   "execution_count": 33,
   "metadata": {},
   "outputs": [],
   "source": [
    "dic = {}\n",
    "for i in range(len(file)):\n",
    "    if file[i][-1] == 'v':\n",
    "        dic[file[i]]=df['Disease'][df['ID']==int(file[i][0:3])]"
   ]
  },
  {
   "cell_type": "code",
   "execution_count": 39,
   "metadata": {},
   "outputs": [],
   "source": [
    "inp = list(dic.keys())\n",
    "inp_ = []\n",
    "out = list(dic.values())"
   ]
  },
  {
   "cell_type": "code",
   "execution_count": 40,
   "metadata": {},
   "outputs": [
    {
     "name": "stderr",
     "output_type": "stream",
     "text": [
      "/var/folders/5r/fcqyf8kj1flbx_kqpc87k4g80000gn/T/ipykernel_7773/1352068947.py:5: DeprecationWarning: The binary mode of fromstring is deprecated, as it behaves surprisingly on unicode inputs. Use frombuffer instead\n",
      "  sig = np.fromstring(sig,\"int16\")\n"
     ]
    },
    {
     "name": "stdout",
     "output_type": "stream",
     "text": [
      "208_1b1_Ll_sc_Meditron.wav\n",
      "127_1b1_Ar_sc_Meditron.wav\n"
     ]
    }
   ],
   "source": [
    "for i in range(len(inp)):\n",
    "    try:\n",
    "        ts = wave.open(f'respiratory_sound_database/Respiratory_Sound_Database/audio_and_txt_files/{inp[i]}')\n",
    "        sig = ts.readframes(-1)\n",
    "        sig = np.fromstring(sig,\"int16\")\n",
    "        inp_.append(sig)\n",
    "    except:\n",
    "        print(inp[i])"
   ]
  },
  {
   "cell_type": "code",
   "execution_count": 47,
   "metadata": {},
   "outputs": [
    {
     "name": "stdout",
     "output_type": "stream",
     "text": [
      "882001\n",
      "63424\n",
      "250000\n",
      "882001\n",
      "120000\n",
      "882001\n",
      "252400\n",
      "78528\n",
      "83392\n",
      "120000\n",
      "69056\n",
      "81344\n",
      "332000\n",
      "344800\n",
      "58304\n",
      "882000\n",
      "284200\n",
      "74688\n",
      "62912\n",
      "293400\n",
      "134400\n",
      "882000\n",
      "339000\n",
      "69824\n",
      "882001\n",
      "49856\n",
      "882000\n",
      "267000\n",
      "98496\n",
      "75456\n",
      "31424\n",
      "882001\n",
      "60096\n",
      "120000\n",
      "44992\n",
      "882000\n",
      "129200\n",
      "1312416\n",
      "882001\n",
      "882000\n",
      "882001\n",
      "275800\n",
      "74944\n",
      "87744\n",
      "297800\n",
      "266000\n",
      "329000\n",
      "73408\n",
      "269600\n",
      "58304\n",
      "86720\n",
      "882001\n",
      "260200\n",
      "882000\n",
      "120000\n",
      "50112\n",
      "1311093\n",
      "70592\n",
      "78528\n",
      "882000\n",
      "72896\n",
      "882000\n",
      "882000\n",
      "91840\n",
      "117440\n",
      "248200\n",
      "129600\n",
      "882001\n",
      "882001\n",
      "112320\n",
      "250000\n",
      "102336\n",
      "58304\n",
      "330000\n",
      "77504\n",
      "271400\n",
      "882001\n",
      "252400\n",
      "882001\n",
      "1309770\n",
      "64960\n",
      "79808\n",
      "332000\n",
      "72896\n",
      "107712\n",
      "58304\n",
      "882001\n",
      "92096\n",
      "284200\n",
      "65472\n",
      "81344\n",
      "267000\n",
      "882001\n",
      "49856\n",
      "285800\n",
      "339000\n",
      "67776\n",
      "38336\n",
      "882000\n",
      "882001\n",
      "882000\n",
      "73920\n",
      "120000\n",
      "882000\n",
      "301000\n",
      "50112\n",
      "882000\n",
      "231200\n",
      "78528\n",
      "96960\n",
      "275800\n",
      "67008\n",
      "874503\n",
      "269600\n",
      "83392\n",
      "61888\n",
      "329000\n",
      "260200\n",
      "277800\n",
      "67776\n",
      "120000\n",
      "1321677\n",
      "80320\n",
      "87488\n",
      "69056\n",
      "882000\n",
      "882000\n",
      "882001\n",
      "113856\n",
      "248200\n",
      "129600\n",
      "94912\n"
     ]
    }
   ],
   "source": [
    "for i in range(len(inp_)):\n",
    "    if 1323000!=len(inp_[i]):\n",
    "        print(len(inp_[i]))"
   ]
  },
  {
   "cell_type": "code",
   "execution_count": 12,
   "metadata": {},
   "outputs": [
    {
     "name": "stderr",
     "output_type": "stream",
     "text": [
      "/var/folders/5r/fcqyf8kj1flbx_kqpc87k4g80000gn/T/ipykernel_5460/183750352.py:3: DeprecationWarning: The binary mode of fromstring is deprecated, as it behaves surprisingly on unicode inputs. Use frombuffer instead\n",
      "  signal = np.fromstring(signal,\"int16\")\n"
     ]
    }
   ],
   "source": [
    "ts = wave.open('respiratory_sound_database/Respiratory_Sound_Database/audio_and_txt_files/101_1b1_Al_sc_Meditron.wav')\n",
    "signal = ts.readframes(-1)\n",
    "signal = np.fromstring(signal,\"int16\")"
   ]
  },
  {
   "cell_type": "code",
   "execution_count": 16,
   "metadata": {},
   "outputs": [
    {
     "data": {
      "text/plain": [
       "[<matplotlib.lines.Line2D at 0x7fca4e811fd0>]"
      ]
     },
     "execution_count": 16,
     "metadata": {},
     "output_type": "execute_result"
    },
    {
     "data": {
      "image/png": "[encoded data removed]",
      "text/plain": [
       "<Figure size 432x288 with 1 Axes>"
      ]
     },
     "metadata": {
      "needs_background": "light"
     },
     "output_type": "display_data"
    }
   ],
   "source": [
    "plt.plot(signal)"
   ]
  }
 ],
 "metadata": {
  "kernelspec": {
   "display_name": "Python 3.9.12 ('main')",
   "language": "python",
   "name": "python3"
  },
  "language_info": {
   "codemirror_mode": {
    "name": "ipython",
    "version": 3
   },
   "file_extension": ".py",
   "mimetype": "text/x-python",
   "name": "python",
   "nbconvert_exporter": "python",
   "pygments_lexer": "ipython3",
   "version": "3.9.12"
  },
  "orig_nbformat": 4,
  "vscode": {
   "interpreter": {
    "hash": "bf8aed606d311cb386a70e061da9f0aff4a1487b1aba3cd3d7966343fd19a28a"
   }
  }
 },
 "nbformat": 4,
 "nbformat_minor": 2
}
